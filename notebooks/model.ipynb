{
 "cells": [
  {
   "cell_type": "code",
   "execution_count": 1,
   "metadata": {},
   "outputs": [],
   "source": [
    "import numpy as np\n",
    "import tensorflow as tf\n",
    "from PIL import Image\n",
    "import glob\n",
    "import os\n",
    "# import tensorflow.contrib.slim as slim\n",
    "import sys\n",
    "from tensorflow import keras"
   ]
  },
  {
   "cell_type": "code",
   "execution_count": 2,
   "metadata": {},
   "outputs": [],
   "source": [
    "sys.path.append('../')"
   ]
  },
  {
   "cell_type": "code",
   "execution_count": 3,
   "metadata": {},
   "outputs": [],
   "source": [
    "import anchors as Anchors\n",
    "import backbone as Backbone"
   ]
  },
  {
   "cell_type": "code",
   "execution_count": 4,
   "metadata": {},
   "outputs": [],
   "source": [
    "input_shape = (480,640,3)\n",
    "model_name = 'resnet50'\n",
    "## [C1,C2,C3,C4,C5]: Ci corresponds to the output from ith block in resnet50 \n",
    "layer_names = ['max_pooling2d','activation_9','activation_21','activation_39','activation_48'] \n",
    "layer_index = [6,38,80,142,174]\n",
    "input_t = keras.layers.Input(shape=input_shape)"
   ]
  },
  {
   "cell_type": "code",
   "execution_count": 7,
   "metadata": {},
   "outputs": [
    {
     "name": "stdout",
     "output_type": "stream",
     "text": [
      "WARNING:tensorflow:From /home/aditya0212jain/anaconda3/envs/work/lib/python2.7/site-packages/tensorflow/python/ops/resource_variable_ops.py:435: colocate_with (from tensorflow.python.framework.ops) is deprecated and will be removed in a future version.\n",
      "Instructions for updating:\n",
      "Colocations handled automatically by placer.\n"
     ]
    },
    {
     "name": "stderr",
     "output_type": "stream",
     "text": [
      "/home/aditya0212jain/anaconda3/envs/work/lib/python2.7/site-packages/keras_applications/resnet50.py:265: UserWarning: The output shape of `ResNet50(include_top=False)` has been changed since Keras 2.2.0.\n",
      "  warnings.warn('The output shape of `ResNet50(include_top=False)` '\n"
     ]
    }
   ],
   "source": [
    "features = Backbone.get_feature_extracting_model(input_tensor=input_t,\n",
    "                                                 input_shape=input_shape,\n",
    "                                                 model_name=model_name)"
   ]
  },
  {
   "cell_type": "code",
   "execution_count": 8,
   "metadata": {},
   "outputs": [
    {
     "data": {
      "text/plain": [
       "(1, 480, 640, 3)"
      ]
     },
     "execution_count": 8,
     "metadata": {},
     "output_type": "execute_result"
    }
   ],
   "source": []
  },
  {
   "cell_type": "code",
   "execution_count": 5,
   "metadata": {},
   "outputs": [],
   "source": [
    "def get_upsampleAndSum(to_upsample,to_add,num_filt=256):\n",
    "    \"\"\"\n",
    "        a= upsample(to_upsample)\n",
    "        b = (1x1 Conv)(to_add)\n",
    "        return add[a,b] \n",
    "    \"\"\"\n",
    "    c = keras.layers.UpSampling2D(size=(2, 2), data_format=None, interpolation='nearest')(to_upsample)\n",
    "    C4d2 = keras.layers.Conv2D(num_filt,(1,1),strides=(1,1),padding='same')(to_add)\n",
    "    Pf = keras.layers.add([C4d2,c])\n",
    "    return Pf\n",
    "\n",
    "def get_fpn_featureMaps(features,num_filt=256):\n",
    "    \"\"\"\n",
    "    features: list of different maps produced by a backbone\n",
    "    **Resnet50** : for resnet50 it contains all the 5 feature maps from each block\n",
    "    Return: list of pyramid features\n",
    "    \"\"\"\n",
    "    C1,C2,C3,C4,C5 = features\n",
    "    \n",
    "    C5d1 = keras.layers.Conv2D(num_filt,(1,1),strides=(1,1),padding='same')(C5)\n",
    "    P5 = keras.layers.Conv2D(num_filt,(3,3),strides=(1,1),padding='same')(C5d1)\n",
    "    \n",
    "    P4d = get_upsampleAndSum(C5d1,C4)\n",
    "    P4 = keras.layers.Conv2D(num_filt,(3,3),strides=(1,1),padding='same')(P4d)\n",
    "    \n",
    "    P3d = get_upsampleAndSum(P4d,C3)\n",
    "    P3 = keras.layers.Conv2D(num_filt,(3,3),strides=(1,1),padding='same')(P3d)\n",
    "    \n",
    "    P6 = keras.layers.Conv2D(num_filt,(3,3),strides=(2,2),padding='same')(C5)\n",
    "    P7d = keras.layers.ReLU()(P6)\n",
    "    P7 = keras.layers.Conv2D(num_filt,(3,3),strides=(2,2),padding='same')(P7d)\n",
    "    \n",
    "    return P3,P4,P5,P6,P7"
   ]
  },
  {
   "cell_type": "code",
   "execution_count": 6,
   "metadata": {},
   "outputs": [],
   "source": [
    "def evaluator(name,num_filt,num_anchors,num_outputs_per_anchors=5,num_feature_filt=256):\n",
    "    \"\"\"\n",
    "    features = previous layers from the model\n",
    "    num_filt = intermediate number of filters for conv\n",
    "    num_anchors = num_of_anchors for this feature\n",
    "    num_outputs_per_anchors = 4 for regression and 1 for classification\n",
    "    return the [N,5] N is the number of anchors\n",
    "    \"\"\"\n",
    "    tf_place = keras.layers.Input(shape=(None,None,num_feature_filt))\n",
    "    outputs = tf_place\n",
    "    \n",
    "    for i in range(4):\n",
    "        outputs = keras.layers.Conv2D(filters=num_filt,activation='relu'\n",
    "                                      ,kernel_size=3,strides=1,padding='same')(outputs)\n",
    "        \n",
    "    outputs = keras.layers.Conv2D(filters=num_anchors*num_outputs_per_anchors\n",
    "                                  ,padding='same',kernel_size=3,strides=1)(outputs)\n",
    "    \n",
    "    output = keras.layers.Reshape((-1,num_outputs_per_anchors))(outputs)\n",
    "    \n",
    "    model = keras.models.Model(inputs=tf_place,outputs=output,name=name)\n",
    "    return model\n",
    "    "
   ]
  },
  {
   "cell_type": "code",
   "execution_count": 7,
   "metadata": {},
   "outputs": [],
   "source": [
    "def get_anchors_for_fpn(anchors_cfg,fpn_features):\n",
    "    \"\"\"\n",
    "    Arg:\n",
    "        anchors_cfg : anchors configuration for different feature maps\n",
    "        fpn_features : pyramid features from retinanet\n",
    "    Return:\n",
    "        list of all anchors for different features \n",
    "    \"\"\"\n",
    "\n",
    "    ## get the anchors for different size feature maps \n",
    "    ## first get the reference anchors\n",
    "    ref_anchors = []\n",
    "    for i in range(len(fpn_features)):\n",
    "        ref_anchors.append(Anchors.generate_reference_anchors(base_size=anchors_cfg[i]['base_size'],\n",
    "                                                     ratios=anchors_cfg[i]['ratios'],\n",
    "                                                     scales=anchors_cfg[i]['scales']))\n",
    "    ## get the anchors for different feature maps\n",
    "    anchors = []\n",
    "    for i in range(len(fpn_features)):\n",
    "        anchors.append(Anchors.generate_anchors_over_feature_map(fpn_features[i].shape[1].value,\n",
    "                                                                 fpn_features[i].shape[2].value,\n",
    "                                                                 ref_anchors=ref_anchors[i],\n",
    "                                                                 stride=anchors_cfg[i]['stride']).reshape(-1,4))\n",
    "    return anchors"
   ]
  },
  {
   "cell_type": "code",
   "execution_count": 8,
   "metadata": {},
   "outputs": [],
   "source": [
    "def apply_model(model,feature):\n",
    "    return model(feature)"
   ]
  },
  {
   "cell_type": "code",
   "execution_count": 9,
   "metadata": {},
   "outputs": [],
   "source": [
    "def retinanet(input_,anchors_cfg,features):\n",
    "    \n",
    "    ## extract the pyramid features from the backbone features\n",
    "    fpn_features = get_fpn_featureMaps(features,num_filt=256)\n",
    "    \n",
    "    anchors = get_anchors_for_fpn(anchors_cfg=anchors_cfg,fpn_features=fpn_features)\n",
    "    \n",
    "    names=[ str(i) for i in range(len(anchors))]\n",
    "    \n",
    "    evaluators = [ evaluator(names[i],num_filt=256,num_anchors=len(anchors[i])) for i in range(len(fpn_features)) ]\n",
    "#     ans = keras.layers.Concatenate(axis=1)([ evaluator(names[i],fpn_features[i],len(anchors[i]),5)\n",
    "#                                             for i in range(len(fpn_features)) ])\n",
    "#   \n",
    "    fpn_o = [apply_model(model,(fpn_features[i])) for i,model in enumerate(evaluators)]\n",
    "\n",
    "    ans = keras.layers.Concatenate(axis=1)(fpn_o)\n",
    "    return keras.models.Model(inputs=input_,outputs=ans,name='retinanet')\n",
    "    "
   ]
  },
  {
   "cell_type": "code",
   "execution_count": 10,
   "metadata": {},
   "outputs": [],
   "source": [
    "def resnet50_retinanet(input_shape,anchors_cfg):\n",
    "    \"\"\"\n",
    "    creates a retinanet model with input_shape and anchors_cfg with resnet50 as backbone\n",
    "    returns [N,5] where N is the total number of anchors \n",
    "    \"\"\"\n",
    "    ## get the backbone features of resnet\n",
    "    inputs = keras.layers.Input(shape=input_shape)\n",
    "    model_name = 'resnet50'\n",
    "    layer_index = [6,38,80,142,174]\n",
    "    features = Backbone.get_feature_extracting_model(input_tensor=inputs,\n",
    "                                                     input_shape=input_shape,\n",
    "                                                     model_name=model_name,\n",
    "                                                     layer_index=layer_index)\n",
    "    \n",
    "    ## get the retina_net \n",
    "    retinanet_v = retinanet(inputs,anchors_cfg,features)\n",
    "    \n",
    "    return retinanet_v"
   ]
  },
  {
   "cell_type": "code",
   "execution_count": 11,
   "metadata": {},
   "outputs": [],
   "source": [
    "def test():\n",
    "    \"\"\"\n",
    "        Note: anchors_cfg is a list of dictionary with keys = ['base_size','ratios','scales','stride'] \n",
    "              for each feature map on which detection is being made \n",
    "    \"\"\"\n",
    "    anchors_cfg_1 = {'base_size':16,'ratios':[1],'scales':2 ** np.arange(0, 1),'stride':1}\n",
    "    anchors_cfg = []\n",
    "    for i in range(5):\n",
    "        anchors_cfg.append(anchors_cfg_1)\n",
    "    input_shape = (480,640,3)\n",
    "    final_test = resnet50_retinanet(input_shape=input_shape,anchors_cfg=anchors_cfg)\n",
    "    return final_test"
   ]
  },
  {
   "cell_type": "code",
   "execution_count": 12,
   "metadata": {},
   "outputs": [
    {
     "name": "stdout",
     "output_type": "stream",
     "text": [
      "WARNING:tensorflow:From /home/aditya0212jain/anaconda3/envs/work/lib/python2.7/site-packages/tensorflow/python/ops/resource_variable_ops.py:435: colocate_with (from tensorflow.python.framework.ops) is deprecated and will be removed in a future version.\n",
      "Instructions for updating:\n",
      "Colocations handled automatically by placer.\n"
     ]
    },
    {
     "name": "stderr",
     "output_type": "stream",
     "text": [
      "/home/aditya0212jain/anaconda3/envs/work/lib/python2.7/site-packages/keras_applications/resnet50.py:265: UserWarning: The output shape of `ResNet50(include_top=False)` has been changed since Keras 2.2.0.\n",
      "  warnings.warn('The output shape of `ResNet50(include_top=False)` '\n"
     ]
    },
    {
     "name": "stdout",
     "output_type": "stream",
     "text": [
      "[ 0  0 15 15]\n",
      "[[  0.   0.  15.  15.]]\n",
      "[1]\n",
      "[ 0  0 15 15]\n",
      "[[  0.   0.  15.  15.]]\n",
      "[1]\n",
      "[ 0  0 15 15]\n",
      "[[  0.   0.  15.  15.]]\n",
      "[1]\n",
      "[ 0  0 15 15]\n",
      "[[  0.   0.  15.  15.]]\n",
      "[1]\n",
      "[ 0  0 15 15]\n",
      "[[  0.   0.  15.  15.]]\n",
      "[1]\n"
     ]
    }
   ],
   "source": [
    "f = test()"
   ]
  },
  {
   "cell_type": "code",
   "execution_count": 18,
   "metadata": {},
   "outputs": [
    {
     "data": {
      "text/plain": [
       "(1, 480, 640, 3)"
      ]
     },
     "execution_count": 18,
     "metadata": {},
     "output_type": "execute_result"
    }
   ],
   "source": [
    "## Testing the features_extractor\n",
    "im = Image.open('../../dataset/images/2019-06-13 16_25_53__000497__91b35108-8da2-11e9-827b-cf5f9d5a17ad.jpg')\n",
    "im1 = np.array(im,dtype=np.float32)\n",
    "im1 = np.expand_dims(im1,axis=0)\n",
    "im1.shape"
   ]
  },
  {
   "cell_type": "code",
   "execution_count": 14,
   "metadata": {},
   "outputs": [],
   "source": [
    "a = np.stack([im1,im1],axis=0)"
   ]
  },
  {
   "cell_type": "code",
   "execution_count": 15,
   "metadata": {},
   "outputs": [
    {
     "data": {
      "text/plain": [
       "(2, 480, 640, 3)"
      ]
     },
     "execution_count": 15,
     "metadata": {},
     "output_type": "execute_result"
    }
   ],
   "source": [
    "a.shape"
   ]
  },
  {
   "cell_type": "code",
   "execution_count": 22,
   "metadata": {},
   "outputs": [],
   "source": [
    "x1 = f.predict(a)"
   ]
  },
  {
   "cell_type": "code",
   "execution_count": 23,
   "metadata": {},
   "outputs": [
    {
     "data": {
      "text/plain": [
       "(2, 24576800, 5)"
      ]
     },
     "execution_count": 23,
     "metadata": {},
     "output_type": "execute_result"
    }
   ],
   "source": [
    "x1.shape"
   ]
  },
  {
   "cell_type": "code",
   "execution_count": null,
   "metadata": {},
   "outputs": [],
   "source": []
  },
  {
   "cell_type": "code",
   "execution_count": null,
   "metadata": {},
   "outputs": [],
   "source": []
  }
 ],
 "metadata": {
  "kernelspec": {
   "display_name": "Python(1.13 tf)",
   "language": "python",
   "name": "python3"
  },
  "language_info": {
   "codemirror_mode": {
    "name": "ipython",
    "version": 2
   },
   "file_extension": ".py",
   "mimetype": "text/x-python",
   "name": "python",
   "nbconvert_exporter": "python",
   "pygments_lexer": "ipython2",
   "version": "2.7.15"
  }
 },
 "nbformat": 4,
 "nbformat_minor": 2
}
