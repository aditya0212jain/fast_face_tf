{
 "cells": [
  {
   "cell_type": "code",
   "execution_count": 1,
   "metadata": {},
   "outputs": [],
   "source": [
    "import numpy as np\n",
    "import tensorflow as tf\n",
    "from PIL import Image\n",
    "import glob\n",
    "import os"
   ]
  },
  {
   "cell_type": "code",
   "execution_count": 2,
   "metadata": {},
   "outputs": [],
   "source": [
    "class WiderDataset:\n",
    "    \"\"\"\n",
    "    [left, top, width, height, score]\n",
    "    \"\"\"\n",
    "    def __init__(self,image_folder_path,label_path):\n",
    "        im_paths = self.get_image_paths(image_folder_path)\n",
    "        image_labels = self.get_labels(label_path)\n",
    "        self.data = self.get_image_unified(im_paths,image_labels)\n",
    "        return \n",
    "        \n",
    "    def get_image_paths(self,folder_path=\"../dataset/Wider/WIDER_train/images/\"):\n",
    "        folders = glob.glob(folder_path+\"*\")\n",
    "        images_paths = []\n",
    "        for folder in folders:\n",
    "            images_paths.extend(glob.glob(os.path.join(folder,'*')))\n",
    "        return images_paths\n",
    "    \n",
    "    def get_labels(self,label_file_path):\n",
    "        label_file = open(label_file_path,'r')\n",
    "        ## Getting image names\n",
    "        image_names = []\n",
    "        flag = False\n",
    "        image_labels = {}\n",
    "        for line in label_file:\n",
    "            sp = line.strip().split('/')\n",
    "            if len(sp)>1:\n",
    "                image_names.append(sp[-1])\n",
    "                image_labels[image_names[-1]] = []\n",
    "            cor = line.strip().split(' ')\n",
    "            if len(cor)==1:\n",
    "                continue\n",
    "            image_labels[image_names[-1]].append(map(int,cor[:4]))\n",
    "        label_file.close()\n",
    "        return image_labels\n",
    "        \n",
    "    def get_image_unified(self,image_paths,image_lables_dict):\n",
    "        data = []\n",
    "        for im_p in image_paths:\n",
    "            im_name = im_p.strip().split('/')[-1]\n",
    "            data_object = {}\n",
    "            data_object['path'] = im_p\n",
    "            data_object['bbox'] = image_lables_dict[im_name]\n",
    "            data.append(data_object)\n",
    "        return data\n",
    "    \n",
    "    def get_item(self,i,style='anchor'):\n",
    "        image = np.array(Image.open(self.data[i]['path']))\n",
    "        label = self.data[i]['bbox']\n",
    "        if style=='anchor':\n",
    "            label = self.get_anchor_type(label)\n",
    "        ### do the preprocessing on the image here\n",
    "        ## TODO \n",
    "        # image = self.preprocess(image)\n",
    "        return image,label\n",
    "    \n",
    "    def get_anchor_type(self,labels):\n",
    "        new_label = []\n",
    "        for l in labels:\n",
    "            new_label.append([l[0],l[1],l[0]+l[2],l[1]+l[3]])\n",
    "        return new_label\n",
    "        \n",
    "    \n",
    "    def preprocess(self,image):\n",
    "        return image"
   ]
  },
  {
   "cell_type": "code",
   "execution_count": 3,
   "metadata": {},
   "outputs": [],
   "source": [
    "image_folder_path = \"../dataset/Wider/WIDER_train/images/\"\n",
    "label_path = \"../dataset/Wider/wider_face_split/wider_face_train_bbx_gt.txt\""
   ]
  },
  {
   "cell_type": "code",
   "execution_count": 4,
   "metadata": {},
   "outputs": [],
   "source": [
    "widerDataset = WiderDataset(image_folder_path,label_path)"
   ]
  },
  {
   "cell_type": "code",
   "execution_count": 5,
   "metadata": {},
   "outputs": [],
   "source": [
    "data = widerDataset.data"
   ]
  },
  {
   "cell_type": "code",
   "execution_count": 6,
   "metadata": {},
   "outputs": [
    {
     "data": {
      "text/plain": [
       "{'bbox': [[48, 130, 76, 134],\n",
       "  [240, 194, 60, 106],\n",
       "  [382, 156, 58, 74],\n",
       "  [504, 138, 72, 96],\n",
       "  [802, 142, 62, 84]],\n",
       " 'path': '../dataset/Wider/WIDER_train/images/24--Soldier_Firing/24_Soldier_Firing_Soldier_Firing_24_1001.jpg'}"
      ]
     },
     "execution_count": 6,
     "metadata": {},
     "output_type": "execute_result"
    }
   ],
   "source": [
    "data[0]"
   ]
  },
  {
   "cell_type": "code",
   "execution_count": 7,
   "metadata": {},
   "outputs": [],
   "source": [
    "x = widerDataset.get_item(0)"
   ]
  },
  {
   "cell_type": "code",
   "execution_count": 11,
   "metadata": {},
   "outputs": [
    {
     "data": {
      "text/plain": [
       "(680, 1024, 3)"
      ]
     },
     "execution_count": 11,
     "metadata": {},
     "output_type": "execute_result"
    }
   ],
   "source": [
    "x[0].shape"
   ]
  },
  {
   "cell_type": "code",
   "execution_count": 1,
   "metadata": {},
   "outputs": [],
   "source": [
    "x = ['stride1','stride2']\n",
    "y = [[1,23,3],[4,5,6]]\n",
    "z = dict(zip(x,y))"
   ]
  },
  {
   "cell_type": "code",
   "execution_count": 2,
   "metadata": {},
   "outputs": [
    {
     "data": {
      "text/plain": [
       "{'stride1': [1, 23, 3], 'stride2': [4, 5, 6]}"
      ]
     },
     "execution_count": 2,
     "metadata": {},
     "output_type": "execute_result"
    }
   ],
   "source": [
    "z"
   ]
  },
  {
   "cell_type": "code",
   "execution_count": null,
   "metadata": {},
   "outputs": [],
   "source": []
  },
  {
   "cell_type": "code",
   "execution_count": null,
   "metadata": {},
   "outputs": [],
   "source": []
  },
  {
   "cell_type": "code",
   "execution_count": null,
   "metadata": {},
   "outputs": [],
   "source": []
  },
  {
   "cell_type": "code",
   "execution_count": null,
   "metadata": {},
   "outputs": [],
   "source": []
  }
 ],
 "metadata": {
  "kernelspec": {
   "display_name": "Python(1.13 tf)",
   "language": "python",
   "name": "python3"
  },
  "language_info": {
   "codemirror_mode": {
    "name": "ipython",
    "version": 2
   },
   "file_extension": ".py",
   "mimetype": "text/x-python",
   "name": "python",
   "nbconvert_exporter": "python",
   "pygments_lexer": "ipython2",
   "version": "2.7.15"
  }
 },
 "nbformat": 4,
 "nbformat_minor": 2
}
